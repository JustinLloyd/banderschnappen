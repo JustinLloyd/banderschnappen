{
 "cells": [
  {
   "cell_type": "code",
   "execution_count": 1,
   "metadata": {
    "collapsed": true,
    "ExecuteTime": {
     "end_time": "2023-08-01T23:40:46.271339200Z",
     "start_time": "2023-08-01T23:40:45.254024700Z"
    }
   },
   "outputs": [
    {
     "ename": "NameError",
     "evalue": "name 'scenario' is not defined",
     "output_type": "error",
     "traceback": [
      "\u001B[1;31m---------------------------------------------------------------------------\u001B[0m",
      "\u001B[1;31mNameError\u001B[0m                                 Traceback (most recent call last)",
      "Cell \u001B[1;32mIn[1], line 2\u001B[0m\n\u001B[0;32m      1\u001B[0m campaign \u001B[38;5;241m=\u001B[39m{\n\u001B[1;32m----> 2\u001B[0m     \u001B[43mscenario\u001B[49m:{}\n\u001B[0;32m      3\u001B[0m     \n\u001B[0;32m      4\u001B[0m }\n",
      "\u001B[1;31mNameError\u001B[0m: name 'scenario' is not defined"
     ]
    }
   ],
   "source": [
    "campaign ={\n",
    "    \"scenario\":{},\n",
    "\n",
    "\n",
    "}"
   ]
  },
  {
   "cell_type": "code",
   "execution_count": null,
   "outputs": [],
   "source": [],
   "metadata": {
    "collapsed": false
   }
  }
 ],
 "metadata": {
  "kernelspec": {
   "display_name": "Python 3",
   "language": "python",
   "name": "python3"
  },
  "language_info": {
   "codemirror_mode": {
    "name": "ipython",
    "version": 2
   },
   "file_extension": ".py",
   "mimetype": "text/x-python",
   "name": "python",
   "nbconvert_exporter": "python",
   "pygments_lexer": "ipython2",
   "version": "2.7.6"
  }
 },
 "nbformat": 4,
 "nbformat_minor": 0
}
