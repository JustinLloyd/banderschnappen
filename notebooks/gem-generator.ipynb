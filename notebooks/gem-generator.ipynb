{
 "cells": [
  {
   "cell_type": "code",
   "execution_count": 4,
   "metadata": {
    "collapsed": true,
    "pycharm": {
     "name": "#%%\n"
    },
    "ExecuteTime": {
     "end_time": "2023-08-02T08:44:20.675657Z",
     "start_time": "2023-08-02T08:44:20.667670Z"
    }
   },
   "outputs": [],
   "source": [
    "import random\n",
    "import sys\n",
    "import os\n",
    "\n",
    "module_path = os.path.abspath(os.path.join('..'))\n",
    "if module_path not in sys.path:\n",
    "    sys.path.append(module_path)\n"
   ]
  },
  {
   "cell_type": "code",
   "execution_count": 5,
   "outputs": [],
   "source": [
    "from die_generator import DieGenerator\n",
    "\n",
    "\n",
    "gem_types = {\n",
    "    'Ruby': '20d20',\n",
    "    'Emerald': '20d20',\n",
    "    'Sapphire': '30d20',\n",
    "    'Diamond': '50d100',\n",
    "    'Amethyst': '4d100',\n",
    "    'Citrine': '20d20',\n",
    "    'Onyx': '8d20',\n",
    "    'Opal': '20d100',\n",
    "    'Turquoise': '2d20',\n",
    "    'Moonstone': '8d20',\n",
    "    'Jade': '4d100',\n",
    "    'Amber': '4d100',\n",
    "    'Garnet': '4d100',\n",
    "    'Aquamarine': '10d100',\n",
    "    'Pearl': '4d100',\n",
    "    'Peridot': '8d20',\n",
    "    'Topaz': '20d100',\n",
    "    'Tourmaline': '4d100',\n",
    "    'Alexandrite': '16d100',\n",
    "    'Agate': '2d20',\n",
    "    'Coral': '4d100',\n",
    "    'Jasper': '12d20',\n",
    "    'Lapis Lazuli': '4d20',\n",
    "    'Malachite': '2d20',\n",
    "    'Obsidian': '1d10',\n",
    "    'Quartz': '2d20',\n",
    "    'Rhodonite': '2d20',\n",
    "    'Sunstone': '4d20',\n",
    "    'Tanzanite': '25d100',\n",
    "    'Zircon': '8d20'\n",
    "}\n",
    "\n",
    "designations = {\n",
    "    'Flawed': 0.5,\n",
    "    'Cracked': 0.3,\n",
    "    'Chipped': 0.6,\n",
    "    'Unpolished': 0.8,\n",
    "    'Polished': 1.2,\n",
    "    'Flawless': 2.0,\n",
    "    'Pulsating': 3.0,\n",
    "    'Shimmering': 3.5,\n",
    "    'Glowing': 4.0\n",
    "}\n",
    "\n",
    "sizes = {\n",
    "    'Small': 0.5,\n",
    "    'Medium': 1.0,\n",
    "    'Large': 2.0,\n",
    "    'Massive': 4.0\n",
    "}\n",
    "\n",
    "def generate_random_gem():\n",
    "    \"\"\"Generate a random gem with a random value.\"\"\"\n",
    "\n",
    "    gem_type, dice = random.choice(list(gem_types.items()))\n",
    "    gem_size, size_multiplier = random.choice(list(sizes.items()))\n",
    "    gem_designation, designation_multiplier = random.choice(list(designations.items()))\n",
    "\n",
    "    base_value = sum(DieGenerator.roll_notation(dice))\n",
    "    gem_value = round(base_value * size_multiplier * designation_multiplier)\n",
    "\n",
    "    gem = {\n",
    "        'type': gem_type,\n",
    "        'size': gem_size,\n",
    "        'designation': gem_designation,\n",
    "        'GP': gem_value,\n",
    "        'description': f'a {gem_size.lower()} {gem_designation.lower()} {gem_type} worth {gem_value}gp'\n",
    "    }\n",
    "\n",
    "    return gem\n",
    "\n",
    "def generate_random_gem_up_to_value(max_value):\n",
    "    \"\"\"Generate a random gem with a random value up to a maximum.\"\"\"\n",
    "    for _ in range(5):\n",
    "        gem = generate_random_gem()\n",
    "        if gem['GP'] <= max_value:\n",
    "            remaining_value = max_value - gem['GP']\n",
    "            return gem, remaining_value\n",
    "\n",
    "    # If the function hasn't returned after 5 attempts, force an exit with a small, flawed gem\n",
    "    gem_type = random.choice(list(gem_types.keys()))\n",
    "    gem = {\n",
    "        'type': gem_type,\n",
    "        'size': 'Small',\n",
    "        'designation': 'Flawed',\n",
    "        'GP': max_value,\n",
    "        'description': f'a small flawed {gem_type} worth {max_value}gp'\n",
    "    }\n",
    "    return gem, 0\n",
    "\n",
    "def generate_random_gems_up_to_value(max_value):\n",
    "    \"\"\"Generate a list of random gems with a total value up to a maximum.\"\"\"\n",
    "    gems = []\n",
    "    remaining_value = max_value\n",
    "\n",
    "    while remaining_value > 0:\n",
    "        gem, remaining_value = generate_random_gem_up_to_value(remaining_value)\n",
    "        gems.append(gem)\n",
    "\n",
    "    random.shuffle(gems)\n",
    "    return gems"
   ],
   "metadata": {
    "collapsed": false,
    "pycharm": {
     "name": "#%%\n"
    },
    "ExecuteTime": {
     "end_time": "2023-08-02T08:44:20.697621700Z",
     "start_time": "2023-08-02T08:44:20.690633300Z"
    }
   }
  },
  {
   "cell_type": "code",
   "execution_count": 9,
   "outputs": [
    {
     "name": "stdout",
     "output_type": "stream",
     "text": [
      "\n",
      "Just one gem\n",
      "{'type': 'Jade', 'size': 'Small', 'designation': 'Unpolished', 'GP': 55, 'description': 'a small unpolished Jade worth 55gp'}\n",
      "\n",
      "One gem up to a maximum value\n",
      "({'type': 'Emerald', 'size': 'Small', 'designation': 'Unpolished', 'GP': 72, 'description': 'a small unpolished Emerald worth 72gp'}, 28)\n",
      "\n",
      "Lots of gems, not totalling more than a fixed value\n",
      "[{'type': 'Moonstone', 'size': 'Large', 'designation': 'Polished', 'GP': 199, 'description': 'a large polished Moonstone worth 199gp'}, {'type': 'Jasper', 'size': 'Small', 'designation': 'Shimmering', 'GP': 236, 'description': 'a small shimmering Jasper worth 236gp'}, {'type': 'Sapphire', 'size': 'Small', 'designation': 'Flawed', 'GP': 9, 'description': 'a small flawed Sapphire worth 9gp'}, {'type': 'Turquoise', 'size': 'Small', 'designation': 'Flawed', 'GP': 4, 'description': 'a small flawed Turquoise worth 4gp'}, {'type': 'Malachite', 'size': 'Large', 'designation': 'Shimmering', 'GP': 91, 'description': 'a large shimmering Malachite worth 91gp'}, {'type': 'Zircon', 'size': 'Massive', 'designation': 'Polished', 'GP': 326, 'description': 'a massive polished Zircon worth 326gp'}, {'type': 'Tourmaline', 'size': 'Medium', 'designation': 'Chipped', 'GP': 99, 'description': 'a medium chipped Tourmaline worth 99gp'}, {'type': 'Rhodonite', 'size': 'Large', 'designation': 'Chipped', 'GP': 36, 'description': 'a large chipped Rhodonite worth 36gp'}]\n",
      "The sum total of all gems is: 1000\n"
     ]
    }
   ],
   "source": [
    "print(\"\\nJust one gem\")\n",
    "print(generate_random_gem())\n",
    "\n",
    "print(\"\\nOne gem up to a maximum value\")\n",
    "print(generate_random_gem_up_to_value(100))\n",
    "\n",
    "print(\"\\nLots of gems, not totalling more than a fixed value\")\n",
    "lots_of_gems=generate_random_gems_up_to_value(1000)\n",
    "print(lots_of_gems)\n",
    "print(f\"The sum total of all gems is: {sum([gem['GP'] for gem in lots_of_gems])}\")\n"
   ],
   "metadata": {
    "collapsed": false,
    "pycharm": {
     "name": "#%%\n"
    }
   }
  },
  {
   "cell_type": "code",
   "execution_count": null,
   "outputs": [],
   "source": [],
   "metadata": {
    "collapsed": false,
    "pycharm": {
     "name": "#%%\n"
    }
   }
  }
 ],
 "metadata": {
  "kernelspec": {
   "display_name": "Python 3",
   "language": "python",
   "name": "python3"
  },
  "language_info": {
   "codemirror_mode": {
    "name": "ipython",
    "version": 2
   },
   "file_extension": ".py",
   "mimetype": "text/x-python",
   "name": "python",
   "nbconvert_exporter": "python",
   "pygments_lexer": "ipython2",
   "version": "2.7.6"
  }
 },
 "nbformat": 4,
 "nbformat_minor": 0
}